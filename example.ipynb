{
 "cells": [
  {
   "cell_type": "code",
   "execution_count": 1,
   "metadata": {},
   "outputs": [],
   "source": [
    "!rm -r .cache\n",
    "\n",
    "import json\n",
    "import langchain\n",
    "\n",
    "# langchain.debug = True\n",
    "\n",
    "with open(\"atometric/assets/examples/ideas_examples.json\") as f:\n",
    "    few_shot_examples = json.load(f)\n",
    "\n",
    "with open(\"atometric/assets/system_prompts/cs_research_idea.txt\") as f:\n",
    "    system_prompt = f.read()\n",
    "\n",
    "test_background = \"The authors introduce a general solution named ALT, a method that works alongside most existing GNNs to handle graphs with either low or high homophily effectively. ALT decomposes a graph into two components, extracts complementary signals, and merges them adaptively for node classification.\"\n",
    "test_sentence = \"The authors introduce a novel framework called Hierarchical Graph Representation Learning (HGRL), which leverages hierarchical clustering to learn multi-level node representations. This approach dynamically adjusts the granularity of node clusters based on the structural complexity of the graph, ensuring that both local and global graph structures are effectively captured.\""
   ]
  },
  {
   "cell_type": "code",
   "execution_count": 2,
   "metadata": {},
   "outputs": [
    {
     "name": "stdout",
     "output_type": "stream",
     "text": [
      "Reference: The authors introduce a general solution named ALT, a method that works alongside most existing GNNs to handle graphs with either low or high homophily effectively. ALT decomposes a graph into two components, extracts complementary signals, and merges them adaptively for node classification.\n",
      "  Statement: The authors introduce a novel framework.\n",
      "    Result: {'loose': True, 'moderate': True, 'strict': True}\n",
      "  Statement: The framework is called Hierarchical Graph Representation Learning (HGRL).\n",
      "    Result: {'loose': False, 'moderate': False, 'strict': False}\n",
      "  Statement: The framework leverages hierarchical clustering.\n",
      "    Result: {'loose': False, 'moderate': False, 'strict': False}\n",
      "  Statement: The framework learns multi-level node representations.\n",
      "    Result: {'loose': True, 'moderate': False, 'strict': False}\n",
      "  Statement: The approach dynamically adjusts the granularity of node clusters.\n",
      "    Result: {'loose': True, 'moderate': False, 'strict': False}\n",
      "  Statement: The adjustment is based on the structural complexity of the graph.\n",
      "    Result: {'loose': True, 'moderate': True, 'strict': False}\n",
      "  Statement: The approach ensures that local graph structures are effectively captured.\n",
      "    Result: {'loose': True, 'moderate': True, 'strict': False}\n",
      "  Statement: The approach ensures that global graph structures are effectively captured.\n",
      "    Result: {'loose': True, 'moderate': True, 'strict': False}\n",
      "Prediction: The authors introduce a novel framework called Hierarchical Graph Representation Learning (HGRL), which leverages hierarchical clustering to learn multi-level node representations. This approach dynamically adjusts the granularity of node clusters based on the structural complexity of the graph, ensuring that both local and global graph structures are effectively captured.\n",
      "  Statement: The authors introduce a general solution.\n",
      "    Result: {'loose': True, 'moderate': True, 'strict': True}\n",
      "  Statement: The solution is named ALT.\n",
      "    Result: {'loose': False, 'moderate': False, 'strict': False}\n",
      "  Statement: The solution is a method.\n",
      "    Result: {'loose': True, 'moderate': True, 'strict': True}\n",
      "  Statement: The method works alongside most existing GNNs.\n",
      "    Result: {'loose': False, 'moderate': False, 'strict': False}\n",
      "  Statement: The method handles graphs with low homophily.\n",
      "    Result: {'loose': True, 'moderate': False, 'strict': False}\n",
      "  Statement: The method handles graphs with high homophily.\n",
      "    Result: {'loose': True, 'moderate': False, 'strict': False}\n",
      "  Statement: The method handles graphs effectively.\n",
      "    Result: {'loose': True, 'moderate': True, 'strict': False}\n",
      "  Statement: The method decomposes a graph into two components.\n",
      "    Result: {'loose': False, 'moderate': False, 'strict': False}\n",
      "  Statement: The method extracts complementary signals.\n",
      "    Result: {'loose': True, 'moderate': False, 'strict': False}\n",
      "  Statement: The method merges the signals adaptively.\n",
      "    Result: {'loose': True, 'moderate': False, 'strict': False}\n",
      "  Statement: The method is used for node classification.\n",
      "    Result: {'loose': True, 'moderate': True, 'strict': False}\n",
      "{\n",
      "    \"precision\": {\n",
      "        \"loose\": 0.75,\n",
      "        \"moderate\": 0.5,\n",
      "        \"strict\": 0.125\n",
      "    },\n",
      "    \"recall\": {\n",
      "        \"loose\": 0.7272727272727273,\n",
      "        \"moderate\": 0.36363636363636365,\n",
      "        \"strict\": 0.18181818181818182\n",
      "    },\n",
      "    \"f1\": {\n",
      "        \"loose\": 0.7384615384615384,\n",
      "        \"moderate\": 0.4210526315789474,\n",
      "        \"strict\": 0.14814814814814814\n",
      "    }\n",
      "}\n"
     ]
    }
   ],
   "source": [
    "from atometric.atometric import Atometric\n",
    "am = Atometric(system_prompt=system_prompt, few_shot_examples_decomposer=few_shot_examples, debug=True)\n",
    "scores = am.compute(predictions=[test_sentence], references=[test_background])\n",
    "print(json.dumps(scores, indent=4))\n"
   ]
  },
  {
   "cell_type": "code",
   "execution_count": null,
   "metadata": {},
   "outputs": [],
   "source": []
  }
 ],
 "metadata": {
  "kernelspec": {
   "display_name": "llm",
   "language": "python",
   "name": "python3"
  },
  "language_info": {
   "codemirror_mode": {
    "name": "ipython",
    "version": 3
   },
   "file_extension": ".py",
   "mimetype": "text/x-python",
   "name": "python",
   "nbconvert_exporter": "python",
   "pygments_lexer": "ipython3",
   "version": "3.8.17"
  }
 },
 "nbformat": 4,
 "nbformat_minor": 2
}
