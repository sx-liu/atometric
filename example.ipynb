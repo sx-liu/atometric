{
 "cells": [
  {
   "cell_type": "code",
   "execution_count": 1,
   "metadata": {},
   "outputs": [],
   "source": [
    "\n",
    "import json\n",
    "\n",
    "import langchain\n",
    "\n",
    "from atometric.decomposer import AtomicStatementDecomposer\n",
    "from atometric.verifier import AtomicStatementVerifier\n",
    "\n",
    "langchain.debug = False\n",
    "\n",
    "with open(\"./atometric/assets/ideas_examples.json\") as f:\n",
    "    few_shot_examples = json.load(f)"
   ]
  },
  {
   "cell_type": "code",
   "execution_count": 2,
   "metadata": {},
   "outputs": [],
   "source": [
    "asd = AtomicStatementDecomposer(few_shot_examples=few_shot_examples)\n",
    "asv = AtomicStatementVerifier()"
   ]
  },
  {
   "cell_type": "code",
   "execution_count": 3,
   "metadata": {},
   "outputs": [],
   "source": [
    "test_sentence = \"The authors introduce a general solution named ALT, a method that works alongside most existing GNNs to handle graphs with either low or high homophily effectively. ALT decomposes a graph into two components, extracts complementary signals, and merges them adaptively for node classification.\"\n",
    "test_background = \"The authors introduce a novel framework called Hierarchical Graph Representation Learning (HGRL), which leverages hierarchical clustering to learn multi-level node representations. This approach dynamically adjusts the granularity of node clusters based on the structural complexity of the graph, ensuring that both local and global graph structures are effectively captured.\""
   ]
  },
  {
   "cell_type": "code",
   "execution_count": 4,
   "metadata": {},
   "outputs": [
    {
     "data": {
      "text/plain": [
       "AtomicStatementDecomposeOutput(atomic_statements=['The authors introduce a general solution.', 'The solution is named ALT.', 'The solution is a method.', 'The method works alongside most existing GNNs.', 'The method handles graphs with low homophily.', 'The method handles graphs with high homophily.', 'The method handles graphs effectively.', 'The method decomposes a graph into two components.', 'The method extracts complementary signals.', 'The method merges the complementary signals adaptively.', 'The method is used for node classification.'])"
      ]
     },
     "execution_count": 4,
     "metadata": {},
     "output_type": "execute_result"
    }
   ],
   "source": [
    "atomic_facts = asd.decompose(test_sentence)\n",
    "atomic_facts"
   ]
  },
  {
   "cell_type": "code",
   "execution_count": 5,
   "metadata": {},
   "outputs": [
    {
     "data": {
      "text/plain": [
       "AtomicStatementVerifierOutput(loose=True, moderate=True, strict=False)"
      ]
     },
     "execution_count": 5,
     "metadata": {},
     "output_type": "execute_result"
    }
   ],
   "source": [
    "sample_statement = atomic_facts.atomic_statements[0]\n",
    "output = asv.verify(sample_statement, test_background)\n",
    "output"
   ]
  },
  {
   "cell_type": "code",
   "execution_count": 6,
   "metadata": {},
   "outputs": [],
   "source": [
    "from atometric.atometric import Atometric\n",
    "am = Atometric(few_shot_examples_decomposer=few_shot_examples)\n",
    "am.compute(predictions=[test_sentence], references=[test_background])"
   ]
  }
 ],
 "metadata": {
  "kernelspec": {
   "display_name": "llm",
   "language": "python",
   "name": "python3"
  },
  "language_info": {
   "codemirror_mode": {
    "name": "ipython",
    "version": 3
   },
   "file_extension": ".py",
   "mimetype": "text/x-python",
   "name": "python",
   "nbconvert_exporter": "python",
   "pygments_lexer": "ipython3",
   "version": "3.8.17"
  }
 },
 "nbformat": 4,
 "nbformat_minor": 2
}
